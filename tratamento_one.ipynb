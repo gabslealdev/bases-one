{
 "cells": [
  {
   "cell_type": "markdown",
   "id": "df1ce4d8",
   "metadata": {},
   "source": [
    "# Tratamento de base - ONE"
   ]
  },
  {
   "cell_type": "code",
   "execution_count": 1,
   "id": "23f9dc4f",
   "metadata": {},
   "outputs": [],
   "source": [
    "import pandas as pd"
   ]
  },
  {
   "cell_type": "code",
   "execution_count": 2,
   "id": "2963b40d",
   "metadata": {},
   "outputs": [
    {
     "name": "stderr",
     "output_type": "stream",
     "text": [
      "C:\\Users\\Gabriel\\AppData\\Local\\Temp\\ipykernel_67892\\810062649.py:1: DtypeWarning: Columns (0,1,2,3,4,5,6,7,9,10,11,12,13,14,16,17,19,21,22,23,24,25,26,27,28,29,30,32,33,34,35,36,39,40,43) have mixed types. Specify dtype option on import or set low_memory=False.\n",
      "  df = pd.read_csv('one.csv',sep=';')\n"
     ]
    }
   ],
   "source": [
    "\n",
    "df = pd.read_csv('one.csv',sep=';')"
   ]
  },
  {
   "cell_type": "code",
   "execution_count": 37,
   "id": "501be2ed",
   "metadata": {},
   "outputs": [
    {
     "data": {
      "text/html": [
       "<div>\n",
       "<style scoped>\n",
       "    .dataframe tbody tr th:only-of-type {\n",
       "        vertical-align: middle;\n",
       "    }\n",
       "\n",
       "    .dataframe tbody tr th {\n",
       "        vertical-align: top;\n",
       "    }\n",
       "\n",
       "    .dataframe thead th {\n",
       "        text-align: right;\n",
       "    }\n",
       "</style>\n",
       "<table border=\"1\" class=\"dataframe\">\n",
       "  <thead>\n",
       "    <tr style=\"text-align: right;\">\n",
       "      <th></th>\n",
       "      <th>ORIGEM</th>\n",
       "      <th>CÓDIGO DA INSTITUIÇÃO</th>\n",
       "      <th>EMPRESA</th>\n",
       "      <th>SIGLA</th>\n",
       "      <th>TIPO DE EMPRESA</th>\n",
       "      <th>DEPENDÊNCIA ADMINISTRATIVA</th>\n",
       "      <th>CATEGORIA</th>\n",
       "      <th>GRUPO CONSOLIDADOR</th>\n",
       "      <th>NÍVEL DE ENSINO</th>\n",
       "      <th>RANGE DE MATRÍCULAS</th>\n",
       "      <th>...</th>\n",
       "      <th>EMAIL I</th>\n",
       "      <th>TELEFONE CONTATO I</th>\n",
       "      <th>CONTATO II</th>\n",
       "      <th>ÁREA II</th>\n",
       "      <th>EMAIL II</th>\n",
       "      <th>TELEFONE CONTATO II</th>\n",
       "      <th>CONTATO III</th>\n",
       "      <th>ÁREA III</th>\n",
       "      <th>EMAIL III</th>\n",
       "      <th>TELEFONE CONTATO III</th>\n",
       "    </tr>\n",
       "  </thead>\n",
       "  <tbody>\n",
       "    <tr>\n",
       "      <th>0</th>\n",
       "      <td>Censo 2022</td>\n",
       "      <td>11046864.0</td>\n",
       "      <td>CENTRO EDUCACIONAL DR ANTONIO LAZARO DE MOURA</td>\n",
       "      <td>NaN</td>\n",
       "      <td>Instituição de ensino</td>\n",
       "      <td>Privada</td>\n",
       "      <td>Filantrópica</td>\n",
       "      <td>NaN</td>\n",
       "      <td>Educação Básica</td>\n",
       "      <td>0 a 500</td>\n",
       "      <td>...</td>\n",
       "      <td>NaN</td>\n",
       "      <td></td>\n",
       "      <td>NaN</td>\n",
       "      <td>NaN</td>\n",
       "      <td>NaN</td>\n",
       "      <td></td>\n",
       "      <td>NaN</td>\n",
       "      <td>NaN</td>\n",
       "      <td>NaN</td>\n",
       "      <td></td>\n",
       "    </tr>\n",
       "    <tr>\n",
       "      <th>1</th>\n",
       "      <td>Censo 2022</td>\n",
       "      <td>11006722.0</td>\n",
       "      <td>APAE DE ARIQUEMES</td>\n",
       "      <td>NaN</td>\n",
       "      <td>Instituição de ensino</td>\n",
       "      <td>Privada</td>\n",
       "      <td>Filantrópica</td>\n",
       "      <td>NaN</td>\n",
       "      <td>Educação Básica</td>\n",
       "      <td>0 a 500</td>\n",
       "      <td>...</td>\n",
       "      <td>NaN</td>\n",
       "      <td></td>\n",
       "      <td>NaN</td>\n",
       "      <td>NaN</td>\n",
       "      <td>NaN</td>\n",
       "      <td></td>\n",
       "      <td>NaN</td>\n",
       "      <td>NaN</td>\n",
       "      <td>NaN</td>\n",
       "      <td></td>\n",
       "    </tr>\n",
       "    <tr>\n",
       "      <th>2</th>\n",
       "      <td>Censo 2022</td>\n",
       "      <td>11006765.0</td>\n",
       "      <td>ESCOLA ADVENTISTA DE ARIQUEMES</td>\n",
       "      <td>NaN</td>\n",
       "      <td>Instituição de ensino</td>\n",
       "      <td>Privada</td>\n",
       "      <td>Filantrópica</td>\n",
       "      <td>NaN</td>\n",
       "      <td>Educação Básica</td>\n",
       "      <td>501 a 1000</td>\n",
       "      <td>...</td>\n",
       "      <td>NaN</td>\n",
       "      <td></td>\n",
       "      <td>NaN</td>\n",
       "      <td>NaN</td>\n",
       "      <td>NaN</td>\n",
       "      <td></td>\n",
       "      <td>NaN</td>\n",
       "      <td>NaN</td>\n",
       "      <td>NaN</td>\n",
       "      <td></td>\n",
       "    </tr>\n",
       "    <tr>\n",
       "      <th>3</th>\n",
       "      <td>Censo 2022</td>\n",
       "      <td>11007028.0</td>\n",
       "      <td>CEI CASTORZINHO</td>\n",
       "      <td>NaN</td>\n",
       "      <td>Instituição de ensino</td>\n",
       "      <td>Privada</td>\n",
       "      <td>Filantrópica</td>\n",
       "      <td>NaN</td>\n",
       "      <td>Educação Básica</td>\n",
       "      <td>501 a 1000</td>\n",
       "      <td>...</td>\n",
       "      <td>NaN</td>\n",
       "      <td></td>\n",
       "      <td>NaN</td>\n",
       "      <td>NaN</td>\n",
       "      <td>NaN</td>\n",
       "      <td></td>\n",
       "      <td>NaN</td>\n",
       "      <td>NaN</td>\n",
       "      <td>NaN</td>\n",
       "      <td></td>\n",
       "    </tr>\n",
       "    <tr>\n",
       "      <th>4</th>\n",
       "      <td>Censo 2022</td>\n",
       "      <td>11007656.0</td>\n",
       "      <td>COLEGIO DINAMICO EDUCACAO BASICA</td>\n",
       "      <td>NaN</td>\n",
       "      <td>Instituição de ensino</td>\n",
       "      <td>Privada</td>\n",
       "      <td>Particular</td>\n",
       "      <td>NaN</td>\n",
       "      <td>Educação Básica</td>\n",
       "      <td>1501 a 2000</td>\n",
       "      <td>...</td>\n",
       "      <td>NaN</td>\n",
       "      <td></td>\n",
       "      <td>NaN</td>\n",
       "      <td>NaN</td>\n",
       "      <td>NaN</td>\n",
       "      <td></td>\n",
       "      <td>NaN</td>\n",
       "      <td>NaN</td>\n",
       "      <td>NaN</td>\n",
       "      <td></td>\n",
       "    </tr>\n",
       "    <tr>\n",
       "      <th>...</th>\n",
       "      <td>...</td>\n",
       "      <td>...</td>\n",
       "      <td>...</td>\n",
       "      <td>...</td>\n",
       "      <td>...</td>\n",
       "      <td>...</td>\n",
       "      <td>...</td>\n",
       "      <td>...</td>\n",
       "      <td>...</td>\n",
       "      <td>...</td>\n",
       "      <td>...</td>\n",
       "      <td>...</td>\n",
       "      <td>...</td>\n",
       "      <td>...</td>\n",
       "      <td>...</td>\n",
       "      <td>...</td>\n",
       "      <td>...</td>\n",
       "      <td>...</td>\n",
       "      <td>...</td>\n",
       "      <td>...</td>\n",
       "      <td>...</td>\n",
       "    </tr>\n",
       "    <tr>\n",
       "      <th>59730</th>\n",
       "      <td>Censo 2021</td>\n",
       "      <td>375.0</td>\n",
       "      <td>UNIVERSIDADE SANTO AMARO</td>\n",
       "      <td>UNISA</td>\n",
       "      <td>Instituição de ensino</td>\n",
       "      <td>Privada</td>\n",
       "      <td>NaN</td>\n",
       "      <td>NaN</td>\n",
       "      <td>Ensino Superior</td>\n",
       "      <td>3501 a infinito</td>\n",
       "      <td>...</td>\n",
       "      <td>NaN</td>\n",
       "      <td></td>\n",
       "      <td>NaN</td>\n",
       "      <td>NaN</td>\n",
       "      <td>NaN</td>\n",
       "      <td></td>\n",
       "      <td>NaN</td>\n",
       "      <td>NaN</td>\n",
       "      <td>NaN</td>\n",
       "      <td></td>\n",
       "    </tr>\n",
       "    <tr>\n",
       "      <th>59731</th>\n",
       "      <td>Censo 2021</td>\n",
       "      <td>670.0</td>\n",
       "      <td>UNIVERSIDADE SÃO FRANCISCO</td>\n",
       "      <td>USF</td>\n",
       "      <td>Instituição de ensino</td>\n",
       "      <td>Privada</td>\n",
       "      <td>NaN</td>\n",
       "      <td>NaN</td>\n",
       "      <td>Ensino Superior</td>\n",
       "      <td>3501 a infinito</td>\n",
       "      <td>...</td>\n",
       "      <td>adriel.cabral@usf.edu.br</td>\n",
       "      <td>11985570474</td>\n",
       "      <td>NaN</td>\n",
       "      <td>NaN</td>\n",
       "      <td>NaN</td>\n",
       "      <td></td>\n",
       "      <td>NaN</td>\n",
       "      <td>NaN</td>\n",
       "      <td>NaN</td>\n",
       "      <td></td>\n",
       "    </tr>\n",
       "    <tr>\n",
       "      <th>59732</th>\n",
       "      <td>Censo 2021</td>\n",
       "      <td>355.0</td>\n",
       "      <td>UNIVERSIDADE TUIUTI DO PARANÁ</td>\n",
       "      <td>UTP</td>\n",
       "      <td>Instituição de ensino</td>\n",
       "      <td>Privada</td>\n",
       "      <td>NaN</td>\n",
       "      <td>NaN</td>\n",
       "      <td>Ensino Superior</td>\n",
       "      <td>3501 a infinito</td>\n",
       "      <td>...</td>\n",
       "      <td>NaN</td>\n",
       "      <td></td>\n",
       "      <td>NaN</td>\n",
       "      <td>NaN</td>\n",
       "      <td>NaN</td>\n",
       "      <td></td>\n",
       "      <td>NaN</td>\n",
       "      <td>NaN</td>\n",
       "      <td>NaN</td>\n",
       "      <td></td>\n",
       "    </tr>\n",
       "    <tr>\n",
       "      <th>59733</th>\n",
       "      <td>Censo 2021</td>\n",
       "      <td>513.0</td>\n",
       "      <td>UNIVERSIDADE VALE DO RIO DOCE</td>\n",
       "      <td>UNIVALE</td>\n",
       "      <td>Instituição de ensino</td>\n",
       "      <td>Privada</td>\n",
       "      <td>NaN</td>\n",
       "      <td>NaN</td>\n",
       "      <td>Ensino Superior</td>\n",
       "      <td>3001 a 3500</td>\n",
       "      <td>...</td>\n",
       "      <td>NaN</td>\n",
       "      <td></td>\n",
       "      <td>NaN</td>\n",
       "      <td>NaN</td>\n",
       "      <td>NaN</td>\n",
       "      <td></td>\n",
       "      <td>NaN</td>\n",
       "      <td>NaN</td>\n",
       "      <td>NaN</td>\n",
       "      <td></td>\n",
       "    </tr>\n",
       "    <tr>\n",
       "      <th>59734</th>\n",
       "      <td>Censo 2021</td>\n",
       "      <td>664.0</td>\n",
       "      <td>UNIVERSIDADE VILA VELHA</td>\n",
       "      <td>UVV</td>\n",
       "      <td>Instituição de ensino</td>\n",
       "      <td>Privada</td>\n",
       "      <td>NaN</td>\n",
       "      <td>NaN</td>\n",
       "      <td>Ensino Superior</td>\n",
       "      <td>3501 a infinito</td>\n",
       "      <td>...</td>\n",
       "      <td>NaN</td>\n",
       "      <td></td>\n",
       "      <td>NaN</td>\n",
       "      <td>NaN</td>\n",
       "      <td>NaN</td>\n",
       "      <td></td>\n",
       "      <td>NaN</td>\n",
       "      <td>NaN</td>\n",
       "      <td>NaN</td>\n",
       "      <td></td>\n",
       "    </tr>\n",
       "  </tbody>\n",
       "</table>\n",
       "<p>59735 rows × 33 columns</p>\n",
       "</div>"
      ],
      "text/plain": [
       "           ORIGEM  CÓDIGO DA INSTITUIÇÃO  \\\n",
       "0      Censo 2022             11046864.0   \n",
       "1      Censo 2022             11006722.0   \n",
       "2      Censo 2022             11006765.0   \n",
       "3      Censo 2022             11007028.0   \n",
       "4      Censo 2022             11007656.0   \n",
       "...           ...                    ...   \n",
       "59730  Censo 2021                  375.0   \n",
       "59731  Censo 2021                  670.0   \n",
       "59732  Censo 2021                  355.0   \n",
       "59733  Censo 2021                  513.0   \n",
       "59734  Censo 2021                  664.0   \n",
       "\n",
       "                                             EMPRESA    SIGLA  \\\n",
       "0      CENTRO EDUCACIONAL DR ANTONIO LAZARO DE MOURA      NaN   \n",
       "1                                  APAE DE ARIQUEMES      NaN   \n",
       "2                     ESCOLA ADVENTISTA DE ARIQUEMES      NaN   \n",
       "3                                    CEI CASTORZINHO      NaN   \n",
       "4                   COLEGIO DINAMICO EDUCACAO BASICA      NaN   \n",
       "...                                              ...      ...   \n",
       "59730                       UNIVERSIDADE SANTO AMARO    UNISA   \n",
       "59731                     UNIVERSIDADE SÃO FRANCISCO      USF   \n",
       "59732                  UNIVERSIDADE TUIUTI DO PARANÁ      UTP   \n",
       "59733                  UNIVERSIDADE VALE DO RIO DOCE  UNIVALE   \n",
       "59734                        UNIVERSIDADE VILA VELHA      UVV   \n",
       "\n",
       "             TIPO DE EMPRESA DEPENDÊNCIA ADMINISTRATIVA     CATEGORIA  \\\n",
       "0      Instituição de ensino                    Privada  Filantrópica   \n",
       "1      Instituição de ensino                    Privada  Filantrópica   \n",
       "2      Instituição de ensino                    Privada  Filantrópica   \n",
       "3      Instituição de ensino                    Privada  Filantrópica   \n",
       "4      Instituição de ensino                    Privada    Particular   \n",
       "...                      ...                        ...           ...   \n",
       "59730  Instituição de ensino                    Privada           NaN   \n",
       "59731  Instituição de ensino                    Privada           NaN   \n",
       "59732  Instituição de ensino                    Privada           NaN   \n",
       "59733  Instituição de ensino                    Privada           NaN   \n",
       "59734  Instituição de ensino                    Privada           NaN   \n",
       "\n",
       "      GRUPO CONSOLIDADOR  NÍVEL DE ENSINO RANGE DE MATRÍCULAS  ...  \\\n",
       "0                    NaN  Educação Básica             0 a 500  ...   \n",
       "1                    NaN  Educação Básica             0 a 500  ...   \n",
       "2                    NaN  Educação Básica          501 a 1000  ...   \n",
       "3                    NaN  Educação Básica          501 a 1000  ...   \n",
       "4                    NaN  Educação Básica         1501 a 2000  ...   \n",
       "...                  ...              ...                 ...  ...   \n",
       "59730                NaN  Ensino Superior     3501 a infinito  ...   \n",
       "59731                NaN  Ensino Superior     3501 a infinito  ...   \n",
       "59732                NaN  Ensino Superior     3501 a infinito  ...   \n",
       "59733                NaN  Ensino Superior         3001 a 3500  ...   \n",
       "59734                NaN  Ensino Superior     3501 a infinito  ...   \n",
       "\n",
       "                        EMAIL I  TELEFONE CONTATO I CONTATO II ÁREA II  \\\n",
       "0                           NaN                            NaN     NaN   \n",
       "1                           NaN                            NaN     NaN   \n",
       "2                           NaN                            NaN     NaN   \n",
       "3                           NaN                            NaN     NaN   \n",
       "4                           NaN                            NaN     NaN   \n",
       "...                         ...                 ...        ...     ...   \n",
       "59730                       NaN                            NaN     NaN   \n",
       "59731  adriel.cabral@usf.edu.br         11985570474        NaN     NaN   \n",
       "59732                       NaN                            NaN     NaN   \n",
       "59733                       NaN                            NaN     NaN   \n",
       "59734                       NaN                            NaN     NaN   \n",
       "\n",
       "      EMAIL II TELEFONE CONTATO II  CONTATO III ÁREA III EMAIL III  \\\n",
       "0          NaN                              NaN      NaN       NaN   \n",
       "1          NaN                              NaN      NaN       NaN   \n",
       "2          NaN                              NaN      NaN       NaN   \n",
       "3          NaN                              NaN      NaN       NaN   \n",
       "4          NaN                              NaN      NaN       NaN   \n",
       "...        ...                 ...          ...      ...       ...   \n",
       "59730      NaN                              NaN      NaN       NaN   \n",
       "59731      NaN                              NaN      NaN       NaN   \n",
       "59732      NaN                              NaN      NaN       NaN   \n",
       "59733      NaN                              NaN      NaN       NaN   \n",
       "59734      NaN                              NaN      NaN       NaN   \n",
       "\n",
       "      TELEFONE CONTATO III  \n",
       "0                           \n",
       "1                           \n",
       "2                           \n",
       "3                           \n",
       "4                           \n",
       "...                    ...  \n",
       "59730                       \n",
       "59731                       \n",
       "59732                       \n",
       "59733                       \n",
       "59734                       \n",
       "\n",
       "[59735 rows x 33 columns]"
      ]
     },
     "execution_count": 37,
     "metadata": {},
     "output_type": "execute_result"
    }
   ],
   "source": [
    "df"
   ]
  },
  {
   "cell_type": "code",
   "execution_count": 3,
   "id": "5b728b8f",
   "metadata": {},
   "outputs": [],
   "source": [
    "# Convertendo coluna DDD para OBJECT removendo o .0\n",
    "df['DDD'] = df['DDD'].astype(str).str.replace('.0', '', regex=False)"
   ]
  },
  {
   "cell_type": "code",
   "execution_count": 4,
   "id": "d132ff39",
   "metadata": {},
   "outputs": [
    {
     "data": {
      "text/plain": [
       "0          6936413055\n",
       "1          6935353713\n",
       "2          6935352931\n",
       "3          6935352479\n",
       "4          6935354430\n",
       "              ...    \n",
       "1048570          nan \n",
       "1048571          nan \n",
       "1048572          nan \n",
       "1048573          nan \n",
       "1048574          nan \n",
       "Length: 1048575, dtype: object"
      ]
     },
     "execution_count": 4,
     "metadata": {},
     "output_type": "execute_result"
    }
   ],
   "source": [
    "# Concatenando coluna 'DDD' com 'Telefone da instituição'\n",
    "df_telefone = df['DDD'].fillna('').astype(str) + df['Telefone da Instituição'].fillna(' ').astype(str)\n",
    "df_telefone"
   ]
  },
  {
   "cell_type": "code",
   "execution_count": 5,
   "id": "4da4144d",
   "metadata": {},
   "outputs": [
    {
     "data": {
      "text/plain": [
       "3454     98985522650\n",
       "5012     85998290110\n",
       "5037     85988376898\n",
       "5071     85992064243\n",
       "7805     84987163369\n",
       "            ...     \n",
       "59691    14996315109\n",
       "59694    13974234486\n",
       "59703    18981321816\n",
       "59728    13997816502\n",
       "59731    11985570474\n",
       "Name: Telefone Contato 1, Length: 3473, dtype: object"
      ]
     },
     "execution_count": 5,
     "metadata": {},
     "output_type": "execute_result"
    }
   ],
   "source": [
    "# Encontrando todo os campos preenchidos e retirando tudo que não for dígito. \n",
    "df['Telefone Contato 1'] = df['Telefone Contato 1'].dropna(how='all').astype(str).str.replace(r'\\D', '', regex=True)\n",
    "df['Telefone Contato 1'].dropna(how='all')"
   ]
  },
  {
   "cell_type": "code",
   "execution_count": 6,
   "id": "fd80af14",
   "metadata": {},
   "outputs": [
    {
     "data": {
      "text/plain": [
       "2339     63984309064\n",
       "2412     63985039057\n",
       "2440     63984535720\n",
       "2853      8688421282\n",
       "3471      9838781872\n",
       "            ...     \n",
       "57939    17996681994\n",
       "57949    48998213344\n",
       "57960    35999152730\n",
       "58255    11976444644\n",
       "59703    18997630780\n",
       "Name: Telefone Contato 2, Length: 422, dtype: object"
      ]
     },
     "execution_count": 6,
     "metadata": {},
     "output_type": "execute_result"
    }
   ],
   "source": [
    "# Encontrando todo os campos preenchidos e retirando tudo que não for dígito. \n",
    "df['Telefone Contato 2'] = df['Telefone Contato 2'].dropna(how='all').astype(str).str.replace(r'\\D', '', regex=True)\n",
    "df['Telefone Contato 2'].dropna(how='all')"
   ]
  },
  {
   "cell_type": "code",
   "execution_count": 7,
   "id": "fd028f08",
   "metadata": {},
   "outputs": [
    {
     "data": {
      "text/plain": [
       "2237     6334152835\n",
       "2244     6334140372\n",
       "2245     6334162100\n",
       "2257     6334160109\n",
       "2264     6334123176\n",
       "            ...    \n",
       "57795    6133951952\n",
       "57809    6130115054\n",
       "57814    6133510110\n",
       "57816    6133791116\n",
       "57819    6134756945\n",
       "Name: Telefone Contato 3, Length: 1451, dtype: object"
      ]
     },
     "execution_count": 7,
     "metadata": {},
     "output_type": "execute_result"
    }
   ],
   "source": [
    "# Encontrando todo os campos preenchidos e retirando tudo que não for dígito. \n",
    "df['Telefone Contato 3'] = df['Telefone Contato 3'].dropna(how='all').astype(str).str.replace(r'\\D', '', regex=True)\n",
    "df['Telefone Contato 3'].dropna(how='all')"
   ]
  },
  {
   "cell_type": "code",
   "execution_count": 8,
   "id": "5989e4aa",
   "metadata": {},
   "outputs": [],
   "source": [
    "# Definindo função que irá padronizar os números de telefone do DataFrame. \n",
    "def padroniza_tel(tel):\n",
    "    return ''.join(filter(str.isdigit, str(tel))) if pd.notnull(tel) else ''"
   ]
  },
  {
   "cell_type": "code",
   "execution_count": 9,
   "id": "320a225f",
   "metadata": {},
   "outputs": [],
   "source": [
    "# Padroniza os telefones nos dataframes\n",
    "\n",
    "df['Telefone Contato 1'] = df['Telefone Contato 1'].apply(padroniza_tel)\n",
    "df['Telefone Contato 2'] = df['Telefone Contato 2'].apply(padroniza_tel)\n",
    "df['Telefone Contato 3'] = df['Telefone Contato 3'].apply(padroniza_tel)\n",
    "df_telefone = df_telefone.apply(padroniza_tel)\n",
    "df['telefone'] = df_telefone"
   ]
  },
  {
   "cell_type": "code",
   "execution_count": 10,
   "id": "f577d441",
   "metadata": {},
   "outputs": [],
   "source": [
    "\n",
    "for col in ['Telefone Contato 1', 'Telefone Contato 2', 'Telefone Contato 3']:\n",
    "    df[col] = df.apply(lambda row: '' if row[col] == row['telefone'] else row[col], axis=1)"
   ]
  },
  {
   "cell_type": "code",
   "execution_count": 11,
   "id": "97a102c1",
   "metadata": {},
   "outputs": [],
   "source": [
    "df = df.dropna(subset=['Instituição'])\n"
   ]
  },
  {
   "cell_type": "code",
   "execution_count": 12,
   "id": "51436941",
   "metadata": {},
   "outputs": [
    {
     "data": {
      "text/plain": [
       "0        6936413055\n",
       "1        6935353713\n",
       "2        6935352931\n",
       "3        6935352479\n",
       "4        6935354430\n",
       "            ...    \n",
       "59730          nan \n",
       "59731          nan \n",
       "59732          nan \n",
       "59733          nan \n",
       "59734          nan \n",
       "Length: 59735, dtype: object"
      ]
     },
     "execution_count": 12,
     "metadata": {},
     "output_type": "execute_result"
    }
   ],
   "source": [
    "# Concatenando coluna 'DDD' com 'Telefone da instituição'\n",
    "df_telefone = df['DDD'].fillna('').astype(str) + df['Telefone da Instituição'].fillna(' ').astype(str)\n",
    "df_telefone"
   ]
  },
  {
   "cell_type": "markdown",
   "id": "7168de65",
   "metadata": {},
   "source": [
    "# Organizando as colunas do DataFrame"
   ]
  },
  {
   "cell_type": "code",
   "execution_count": 13,
   "id": "56198b86",
   "metadata": {},
   "outputs": [],
   "source": [
    "# Padronizando colunas com letra maiuscúla\n",
    "df.columns = df.columns.str.upper()\n"
   ]
  },
  {
   "cell_type": "code",
   "execution_count": 14,
   "id": "d8d5957c",
   "metadata": {},
   "outputs": [],
   "source": [
    "# Incluindo coluna Tipo de Empresa e Nível de ensino\n",
    "df['TIPO DE EMPRESA'] = ''\n"
   ]
  },
  {
   "cell_type": "code",
   "execution_count": 15,
   "id": "a2c0220e",
   "metadata": {},
   "outputs": [],
   "source": [
    "# Organizando as colunas \n",
    "df = df[[\n",
    "    'ORIGEM', 'CÓDIGO DA INSTITUIÇÃO', 'INSTITUIÇÃO', 'SIGLA', 'TIPO DE EMPRESA', 'DEPENDÊNCIA ADMINISTRATIVA', 'CATEGORIA', 'GRUPO CONSOLIDADOR',\n",
    "    'NÍVEL DE ENSINO', 'RANGE DE MATRÍCULAS', 'TOTAL DE MATRÍCULAS', 'TICKET MÉDIO',  'ENDEREÇO', 'NÚMERO', 'COMPLEMENTO', 'BAIRRO', 'CEP','MUNICÍPIO', 'ESTADO', 'REGIÃO',\n",
    "    'TELEFONE', 'NOME CONTATO 1', 'CARGO CONTATO 1 ', 'E-MAIL CONTATO 1', 'TELEFONE CONTATO 1', 'NOME CONTATO 2', 'CARGO CONTATO 2', 'EMAIL CONTATO 2', 'TELEFONE CONTATO 2',    \n",
    "    'NOME CONTATO 3', 'CARGO CONTATO 3 ', 'EMAIL CONTATO 3', 'TELEFONE CONTATO 3' ]]\n"
   ]
  },
  {
   "cell_type": "code",
   "execution_count": 16,
   "id": "cc50f851",
   "metadata": {},
   "outputs": [],
   "source": [
    "# Renomeando colunas \n",
    "df = df.rename(columns={\n",
    "    'INSTITUIÇÃO': 'EMPRESA',\n",
    "    'NOME CONTATO 1': 'CONTATO I',\n",
    "    'CARGO CONTATO 1 ': 'ÁREA I',\n",
    "    'E-MAIL CONTATO 1': 'EMAIL I',\n",
    "    'TELEFONE CONTATO 1': 'TELEFONE CONTATO I',\n",
    "    'NOME CONTATO 2': 'CONTATO II',\n",
    "    'CARGO CONTATO 2': 'ÁREA II',\n",
    "    'EMAIL CONTATO 2': 'EMAIL II',\n",
    "    'TELEFONE CONTATO 2': 'TELEFONE CONTATO II',\n",
    "    'NOME CONTATO 3': 'CONTATO III',\n",
    "    'CARGO CONTATO 3 ': 'ÁREA III',\n",
    "    'EMAIL CONTATO 3': 'EMAIL III',\n",
    "    'TELEFONE CONTATO 3': 'TELEFONE CONTATO III'\n",
    "})"
   ]
  },
  {
   "cell_type": "code",
   "execution_count": 17,
   "id": "4a35e0d6",
   "metadata": {},
   "outputs": [],
   "source": [
    "# Renomeando coluna de telefone para telefona da instituição\n",
    "df = df.rename(columns={'TELEFONE': 'TELEFONE DA INSTITUIÇÃO'})"
   ]
  },
  {
   "cell_type": "code",
   "execution_count": 18,
   "id": "4212cb52",
   "metadata": {},
   "outputs": [],
   "source": [
    "# Definindo tipos de empresas\n",
    "df['TIPO DE EMPRESA'] = 'Instituição de ensino'"
   ]
  },
  {
   "cell_type": "markdown",
   "id": "3f232a42",
   "metadata": {},
   "source": [
    "# Melhorando o Range de Matrículas"
   ]
  },
  {
   "cell_type": "code",
   "execution_count": 19,
   "id": "0f208efe",
   "metadata": {},
   "outputs": [],
   "source": [
    "# definindo limites e criando as nomenclaturas \n",
    "bins = [0, 500, 1000, 1500, 2000, 2500, 3000, 3500, float('inf')]\n",
    "labels = ['0 a 500', '501 a 1000', '1001 a 1500', '1501 a 2000', '2001 a 2500', '2501 a 3000', '3001 a 3500', '3501 a infinito']"
   ]
  },
  {
   "cell_type": "code",
   "execution_count": 20,
   "id": "a61e904e",
   "metadata": {},
   "outputs": [],
   "source": [
    "df['RANGE DE MATRÍCULAS'] = pd.cut(df['TOTAL DE MATRÍCULAS'], bins=bins, labels=labels, right=True, include_lowest=True)"
   ]
  },
  {
   "cell_type": "markdown",
   "id": "a1306aa3",
   "metadata": {},
   "source": [
    "# Dividindo o arquivo em lotes menores\n",
    "Necessário para realizar a carga no Mautic"
   ]
  },
  {
   "cell_type": "code",
   "execution_count": 30,
   "id": "af12992c",
   "metadata": {},
   "outputs": [],
   "source": [
    "# Definindo tamanho dos lotes\n",
    "\n",
    "lote = 1000"
   ]
  },
  {
   "cell_type": "code",
   "execution_count": 38,
   "id": "f120ee5e",
   "metadata": {},
   "outputs": [],
   "source": [
    "# Dividindo e salvando os arquivos\n",
    "\n",
    "for i in range(0, len(df), lote):\n",
    "    df_carga = df.iloc[i:i + lote]\n",
    "    df_carga.to_csv(f\"base_comercial_v{i//lote + 1}.csv\", index=False, encoding='utf-8-sig')"
   ]
  }
 ],
 "metadata": {
  "kernelspec": {
   "display_name": "Python 3",
   "language": "python",
   "name": "python3"
  },
  "language_info": {
   "codemirror_mode": {
    "name": "ipython",
    "version": 3
   },
   "file_extension": ".py",
   "mimetype": "text/x-python",
   "name": "python",
   "nbconvert_exporter": "python",
   "pygments_lexer": "ipython3",
   "version": "3.12.0"
  }
 },
 "nbformat": 4,
 "nbformat_minor": 5
}

{
 "cells": [
  {
   "cell_type": "markdown",
   "id": "df1ce4d8",
   "metadata": {},
   "source": [
    "# Tratamento de base - ONE"
   ]
  },
  {
   "cell_type": "code",
   "execution_count": 50,
   "id": "23f9dc4f",
   "metadata": {},
   "outputs": [],
   "source": [
    "import pandas as pd"
   ]
  },
  {
   "cell_type": "code",
   "execution_count": 51,
   "id": "2963b40d",
   "metadata": {},
   "outputs": [
    {
     "name": "stderr",
     "output_type": "stream",
     "text": [
      "C:\\Users\\Gabriel\\AppData\\Local\\Temp\\ipykernel_57668\\810062649.py:1: DtypeWarning: Columns (0,1,2,3,4,5,6,7,9,10,11,12,13,14,16,17,19,21,22,23,24,25,26,27,28,29,30,32,33,34,35,36,39,40,43) have mixed types. Specify dtype option on import or set low_memory=False.\n",
      "  df = pd.read_csv('one.csv',sep=';')\n"
     ]
    }
   ],
   "source": [
    "\n",
    "df = pd.read_csv('one.csv',sep=';')"
   ]
  },
  {
   "cell_type": "code",
   "execution_count": 52,
   "id": "5b728b8f",
   "metadata": {},
   "outputs": [],
   "source": [
    "# Convertendo coluna DDD para OBJECT removendo o .0\n",
    "df['DDD'] = df['DDD'].astype(str).str.replace('.0', '', regex=False)"
   ]
  },
  {
   "cell_type": "code",
   "execution_count": 53,
   "id": "d132ff39",
   "metadata": {},
   "outputs": [
    {
     "data": {
      "text/plain": [
       "0          6936413055\n",
       "1          6935353713\n",
       "2          6935352931\n",
       "3          6935352479\n",
       "4          6935354430\n",
       "              ...    \n",
       "1048570          nan \n",
       "1048571          nan \n",
       "1048572          nan \n",
       "1048573          nan \n",
       "1048574          nan \n",
       "Length: 1048575, dtype: object"
      ]
     },
     "execution_count": 53,
     "metadata": {},
     "output_type": "execute_result"
    }
   ],
   "source": [
    "# Concatenando coluna 'DDD' com 'Telefone da instituição'\n",
    "df_telefone = df['DDD'].fillna('').astype(str) + df['Telefone da Instituição'].fillna(' ').astype(str)\n",
    "df_telefone"
   ]
  },
  {
   "cell_type": "code",
   "execution_count": 54,
   "id": "4da4144d",
   "metadata": {},
   "outputs": [
    {
     "data": {
      "text/plain": [
       "3454     98985522650\n",
       "5012     85998290110\n",
       "5037     85988376898\n",
       "5071     85992064243\n",
       "7805     84987163369\n",
       "            ...     \n",
       "59691    14996315109\n",
       "59694    13974234486\n",
       "59703    18981321816\n",
       "59728    13997816502\n",
       "59731    11985570474\n",
       "Name: Telefone Contato 1, Length: 3473, dtype: object"
      ]
     },
     "execution_count": 54,
     "metadata": {},
     "output_type": "execute_result"
    }
   ],
   "source": [
    "# Encontrando todo os campos preenchidos e retirando tudo que não for dígito. \n",
    "df['Telefone Contato 1'] = df['Telefone Contato 1'].dropna(how='all').astype(str).str.replace(r'\\D', '', regex=True)\n",
    "df['Telefone Contato 1'].dropna(how='all')"
   ]
  },
  {
   "cell_type": "code",
   "execution_count": 55,
   "id": "fd80af14",
   "metadata": {},
   "outputs": [
    {
     "data": {
      "text/plain": [
       "2339     63984309064\n",
       "2412     63985039057\n",
       "2440     63984535720\n",
       "2853      8688421282\n",
       "3471      9838781872\n",
       "            ...     \n",
       "57939    17996681994\n",
       "57949    48998213344\n",
       "57960    35999152730\n",
       "58255    11976444644\n",
       "59703    18997630780\n",
       "Name: Telefone Contato 2, Length: 422, dtype: object"
      ]
     },
     "execution_count": 55,
     "metadata": {},
     "output_type": "execute_result"
    }
   ],
   "source": [
    "# Encontrando todo os campos preenchidos e retirando tudo que não for dígito. \n",
    "df['Telefone Contato 2'] = df['Telefone Contato 2'].dropna(how='all').astype(str).str.replace(r'\\D', '', regex=True)\n",
    "df['Telefone Contato 2'].dropna(how='all')"
   ]
  },
  {
   "cell_type": "code",
   "execution_count": 56,
   "id": "fd028f08",
   "metadata": {},
   "outputs": [
    {
     "data": {
      "text/plain": [
       "2237     6334152835\n",
       "2244     6334140372\n",
       "2245     6334162100\n",
       "2257     6334160109\n",
       "2264     6334123176\n",
       "            ...    \n",
       "57795    6133951952\n",
       "57809    6130115054\n",
       "57814    6133510110\n",
       "57816    6133791116\n",
       "57819    6134756945\n",
       "Name: Telefone Contato 3, Length: 1451, dtype: object"
      ]
     },
     "execution_count": 56,
     "metadata": {},
     "output_type": "execute_result"
    }
   ],
   "source": [
    "# Encontrando todo os campos preenchidos e retirando tudo que não for dígito. \n",
    "df['Telefone Contato 3'] = df['Telefone Contato 3'].dropna(how='all').astype(str).str.replace(r'\\D', '', regex=True)\n",
    "df['Telefone Contato 3'].dropna(how='all')"
   ]
  },
  {
   "cell_type": "code",
   "execution_count": 57,
   "id": "5989e4aa",
   "metadata": {},
   "outputs": [],
   "source": [
    "# Definindo função que irá padronizar os números de telefone do DataFrame. \n",
    "def padroniza_tel(tel):\n",
    "    return ''.join(filter(str.isdigit, str(tel))) if pd.notnull(tel) else ''"
   ]
  },
  {
   "cell_type": "code",
   "execution_count": 58,
   "id": "320a225f",
   "metadata": {},
   "outputs": [],
   "source": [
    "# Padroniza os telefones nos dataframes\n",
    "\n",
    "df['Telefone Contato 1'] = df['Telefone Contato 1'].apply(padroniza_tel)\n",
    "df['Telefone Contato 2'] = df['Telefone Contato 2'].apply(padroniza_tel)\n",
    "df['Telefone Contato 3'] = df['Telefone Contato 3'].apply(padroniza_tel)\n",
    "df_telefone = df_telefone.apply(padroniza_tel)\n",
    "df['telefone'] = df_telefone"
   ]
  },
  {
   "cell_type": "code",
   "execution_count": 59,
   "id": "f577d441",
   "metadata": {},
   "outputs": [],
   "source": [
    "\n",
    "for col in ['Telefone Contato 1', 'Telefone Contato 2', 'Telefone Contato 3']:\n",
    "    df[col] = df.apply(lambda row: '' if row[col] == row['telefone'] else row[col], axis=1)"
   ]
  },
  {
   "cell_type": "code",
   "execution_count": 60,
   "id": "97a102c1",
   "metadata": {},
   "outputs": [],
   "source": [
    "df = df.dropna(subset=['Instituição'])\n"
   ]
  },
  {
   "cell_type": "code",
   "execution_count": 61,
   "id": "51436941",
   "metadata": {},
   "outputs": [
    {
     "data": {
      "text/plain": [
       "0        6936413055\n",
       "1        6935353713\n",
       "2        6935352931\n",
       "3        6935352479\n",
       "4        6935354430\n",
       "            ...    \n",
       "59730          nan \n",
       "59731          nan \n",
       "59732          nan \n",
       "59733          nan \n",
       "59734          nan \n",
       "Length: 59735, dtype: object"
      ]
     },
     "execution_count": 61,
     "metadata": {},
     "output_type": "execute_result"
    }
   ],
   "source": [
    "# Concatenando coluna 'DDD' com 'Telefone da instituição'\n",
    "df_telefone = df['DDD'].fillna('').astype(str) + df['Telefone da Instituição'].fillna(' ').astype(str)\n",
    "df_telefone"
   ]
  },
  {
   "cell_type": "markdown",
   "id": "7168de65",
   "metadata": {},
   "source": [
    "# Organizando as colunas do DataFrame"
   ]
  },
  {
   "cell_type": "code",
   "execution_count": 62,
   "id": "56198b86",
   "metadata": {},
   "outputs": [],
   "source": [
    "# Padronizando colunas com letra maiuscúla\n",
    "df.columns = df.columns.str.upper()\n"
   ]
  },
  {
   "cell_type": "code",
   "execution_count": 63,
   "id": "d8d5957c",
   "metadata": {},
   "outputs": [],
   "source": [
    "# Incluindo coluna Tipo de Empresa e Nível de ensino\n",
    "df['TIPO DE EMPRESA'] = ''\n"
   ]
  },
  {
   "cell_type": "code",
   "execution_count": 64,
   "id": "a2c0220e",
   "metadata": {},
   "outputs": [],
   "source": [
    "# Organizando as colunas \n",
    "df = df[[\n",
    "    'ORIGEM', 'CÓDIGO DA INSTITUIÇÃO', 'INSTITUIÇÃO', 'SIGLA', 'TIPO DE EMPRESA', 'DEPENDÊNCIA ADMINISTRATIVA', 'CATEGORIA', 'GRUPO CONSOLIDADOR',\n",
    "    'NÍVEL DE ENSINO', 'RANGE DE MATRÍCULAS', 'TOTAL DE MATRÍCULAS', 'TICKET MÉDIO',  'ENDEREÇO', 'NÚMERO', 'COMPLEMENTO', 'BAIRRO', 'CEP','MUNICÍPIO', 'ESTADO', 'REGIÃO',\n",
    "    'TELEFONE', 'NOME CONTATO 1', 'CARGO CONTATO 1 ', 'E-MAIL CONTATO 1', 'TELEFONE CONTATO 1', 'NOME CONTATO 2', 'CARGO CONTATO 2', 'EMAIL CONTATO 2', 'TELEFONE CONTATO 2',    \n",
    "    'NOME CONTATO 3', 'CARGO CONTATO 3 ', 'EMAIL CONTATO 3', 'TELEFONE CONTATO 3' ]]\n"
   ]
  },
  {
   "cell_type": "code",
   "execution_count": 65,
   "id": "cc50f851",
   "metadata": {},
   "outputs": [],
   "source": [
    "# Renomeando colunas \n",
    "df = df.rename(columns={\n",
    "    'INSTITUIÇÃO': 'EMPRESA',\n",
    "    'NOME CONTATO 1': 'CONTATO I',\n",
    "    'CARGO CONTATO 1 ': 'ÁREA I',\n",
    "    'E-MAIL CONTATO 1': 'EMAIL I',\n",
    "    'TELEFONE CONTATO 1': 'TELEFONE CONTATO I',\n",
    "    'NOME CONTATO 2': 'CONTATO II',\n",
    "    'CARGO CONTATO 2': 'ÁREA II',\n",
    "    'EMAIL CONTATO 2': 'EMAIL II',\n",
    "    'TELEFONE CONTATO 2': 'TELEFONE CONTATO II',\n",
    "    'NOME CONTATO 3': 'CONTATO III',\n",
    "    'CARGO CONTATO 3 ': 'ÁREA III',\n",
    "    'EMAIL CONTATO 3': 'EMAIL III',\n",
    "    'TELEFONE CONTATO 3': 'TELEFONE CONTATO III'\n",
    "})"
   ]
  },
  {
   "cell_type": "code",
   "execution_count": null,
   "id": "4a35e0d6",
   "metadata": {},
   "outputs": [],
   "source": [
    "# Renomeando coluna de telefone para telefona da instituição\n",
    "df = df.rename(columns={'TELEFONE': 'TELEFONE DA INSTITUIÇÃO'})"
   ]
  },
  {
   "cell_type": "code",
   "execution_count": null,
   "id": "4212cb52",
   "metadata": {},
   "outputs": [],
   "source": [
    "# Definindo tipos de empresas\n",
    "df['TIPO DE EMPRESA'] = 'Instituição de ensino'"
   ]
  },
  {
   "cell_type": "markdown",
   "id": "3f232a42",
   "metadata": {},
   "source": [
    "# Melhorando o Range de Matrículas"
   ]
  },
  {
   "cell_type": "code",
   "execution_count": 70,
   "id": "0f208efe",
   "metadata": {},
   "outputs": [],
   "source": [
    "# definindo limites e criando as nomenclaturas \n",
    "bins = [0, 500, 1000, 1500, 2000, 2500, 3000, 3500, float('inf')]\n",
    "labels = ['0 a 500', '501 a 1000', '1001 a 1500', '1501 a 2000', '2001 a 2500', '2501 a 3000', '3001 a 3500', '3501 a infinito']"
   ]
  },
  {
   "cell_type": "code",
   "execution_count": 71,
   "id": "a61e904e",
   "metadata": {},
   "outputs": [],
   "source": [
    "df['RANGE DE MATRÍCULAS'] = pd.cut(df['TOTAL DE MATRÍCULAS'], bins=bins, labels=labels, right=True, include_lowest=True)"
   ]
  },
  {
   "cell_type": "code",
   "execution_count": null,
   "id": "bb75863d",
   "metadata": {},
   "outputs": [],
   "source": [
    "df.to_csv(\"carga_one_v1.csv\", index=False)"
   ]
  },
  {
   "cell_type": "markdown",
   "id": "f9db1071",
   "metadata": {},
   "source": []
  }
 ],
 "metadata": {
  "kernelspec": {
   "display_name": "Python 3",
   "language": "python",
   "name": "python3"
  },
  "language_info": {
   "codemirror_mode": {
    "name": "ipython",
    "version": 3
   },
   "file_extension": ".py",
   "mimetype": "text/x-python",
   "name": "python",
   "nbconvert_exporter": "python",
   "pygments_lexer": "ipython3",
   "version": "3.12.0"
  }
 },
 "nbformat": 4,
 "nbformat_minor": 5
}

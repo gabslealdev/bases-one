{
 "cells": [
  {
   "cell_type": "markdown",
   "id": "df1ce4d8",
   "metadata": {},
   "source": [
    "# Tratamento de base - ONE"
   ]
  },
  {
   "cell_type": "code",
   "execution_count": null,
   "id": "23f9dc4f",
   "metadata": {},
   "outputs": [],
   "source": [
    "import pandas as pd"
   ]
  },
  {
   "cell_type": "code",
   "execution_count": null,
   "id": "2963b40d",
   "metadata": {},
   "outputs": [],
   "source": [
    "\n",
    "df = pd.read_csv('one.csv',sep=';')"
   ]
  },
  {
   "cell_type": "code",
   "execution_count": null,
   "id": "5b728b8f",
   "metadata": {},
   "outputs": [],
   "source": [
    "# Convertendo coluna DDD para OBJECT removendo o .0\n",
    "df['DDD'] = df['DDD'].astype(str).str.replace('.0', '', regex=False)"
   ]
  },
  {
   "cell_type": "code",
   "execution_count": null,
   "id": "d132ff39",
   "metadata": {},
   "outputs": [],
   "source": [
    "# Concatenando coluna 'DDD' com 'Telefone da instituição'\n",
    "df_telefone = df['DDD'].fillna('').astype(str) + df['Telefone da Instituição'].fillna(' ').astype(str)\n",
    "df_telefone"
   ]
  },
  {
   "cell_type": "code",
   "execution_count": null,
   "id": "4da4144d",
   "metadata": {},
   "outputs": [],
   "source": [
    "# Encontrando todo os campos preenchidos e retirando tudo que não for dígito. \n",
    "df['Telefone Contato 1'] = df['Telefone Contato 1'].dropna(how='all').astype(str).str.replace(r'\\D', '', regex=True)\n",
    "df['Telefone Contato 1'].dropna(how='all')"
   ]
  },
  {
   "cell_type": "code",
   "execution_count": null,
   "id": "fd80af14",
   "metadata": {},
   "outputs": [],
   "source": [
    "# Encontrando todo os campos preenchidos e retirando tudo que não for dígito. \n",
    "df['Telefone Contato 2'] = df['Telefone Contato 2'].dropna(how='all').astype(str).str.replace(r'\\D', '', regex=True)\n",
    "df['Telefone Contato 2'].dropna(how='all')"
   ]
  },
  {
   "cell_type": "code",
   "execution_count": null,
   "id": "fd028f08",
   "metadata": {},
   "outputs": [],
   "source": [
    "# Encontrando todo os campos preenchidos e retirando tudo que não for dígito. \n",
    "df['Telefone Contato 3'] = df['Telefone Contato 3'].dropna(how='all').astype(str).str.replace(r'\\D', '', regex=True)\n",
    "df['Telefone Contato 3'].dropna(how='all')"
   ]
  },
  {
   "cell_type": "code",
   "execution_count": null,
   "id": "5989e4aa",
   "metadata": {},
   "outputs": [],
   "source": [
    "# Definindo função que irá padronizar os números de telefone do DataFrame. \n",
    "def padroniza_tel(tel):\n",
    "    return ''.join(filter(str.isdigit, str(tel))) if pd.notnull(tel) else ''"
   ]
  },
  {
   "cell_type": "code",
   "execution_count": null,
   "id": "320a225f",
   "metadata": {},
   "outputs": [],
   "source": [
    "# Padroniza os telefones nos dataframes\n",
    "\n",
    "df['Telefone Contato 1'] = df['Telefone Contato 1'].apply(padroniza_tel)\n",
    "df['Telefone Contato 2'] = df['Telefone Contato 2'].apply(padroniza_tel)\n",
    "df['Telefone Contato 3'] = df['Telefone Contato 3'].apply(padroniza_tel)\n",
    "df_telefone = df_telefone.apply(padroniza_tel)\n",
    "df['telefone'] = df_telefone"
   ]
  },
  {
   "cell_type": "code",
   "execution_count": null,
   "id": "f577d441",
   "metadata": {},
   "outputs": [],
   "source": [
    "\n",
    "for col in ['Telefone Contato 1', 'Telefone Contato 2', 'Telefone Contato 3']:\n",
    "    df[col] = df.apply(lambda row: '' if row[col] == row['telefone'] else row[col], axis=1)"
   ]
  },
  {
   "cell_type": "code",
   "execution_count": null,
   "id": "97a102c1",
   "metadata": {},
   "outputs": [],
   "source": [
    "df = df.dropna(subset=['Instituição'])\n"
   ]
  },
  {
   "cell_type": "code",
   "execution_count": null,
   "id": "51436941",
   "metadata": {},
   "outputs": [],
   "source": [
    "# Concatenando coluna 'DDD' com 'Telefone da instituição'\n",
    "df_telefone = df['DDD'].fillna('').astype(str) + df['Telefone da Instituição'].fillna(' ').astype(str)\n",
    "df_telefone"
   ]
  },
  {
   "cell_type": "markdown",
   "id": "7168de65",
   "metadata": {},
   "source": [
    "# Organizando as colunas do DataFrame"
   ]
  },
  {
   "cell_type": "code",
   "execution_count": null,
   "id": "56198b86",
   "metadata": {},
   "outputs": [],
   "source": [
    "# Padronizando colunas com letra maiuscúla\n",
    "df.columns = df.columns.str.upper()\n"
   ]
  },
  {
   "cell_type": "code",
   "execution_count": null,
   "id": "d8d5957c",
   "metadata": {},
   "outputs": [],
   "source": [
    "# Incluindo coluna Tipo de Empresa e Nível de ensino\n",
    "df['TIPO DE EMPRESA'] = ''\n"
   ]
  },
  {
   "cell_type": "code",
   "execution_count": null,
   "id": "a2c0220e",
   "metadata": {},
   "outputs": [],
   "source": [
    "# Organizando as colunas \n",
    "df = df[[\n",
    "    'ORIGEM', 'CÓDIGO DA INSTITUIÇÃO', 'INSTITUIÇÃO', 'SIGLA', 'TIPO DE EMPRESA', 'DEPENDÊNCIA ADMINISTRATIVA', 'CATEGORIA', 'GRUPO CONSOLIDADOR',\n",
    "    'NÍVEL DE ENSINO', 'RANGE DE MATRÍCULAS', 'TOTAL DE MATRÍCULAS', 'TICKET MÉDIO',  'ENDEREÇO', 'NÚMERO', 'COMPLEMENTO', 'BAIRRO', 'CEP','MUNICÍPIO', 'ESTADO', 'REGIÃO',\n",
    "    'TELEFONE', 'NOME CONTATO 1', 'CARGO CONTATO 1 ', 'E-MAIL CONTATO 1', 'TELEFONE CONTATO 1', 'NOME CONTATO 2', 'CARGO CONTATO 2', 'EMAIL CONTATO 2', 'TELEFONE CONTATO 2',    \n",
    "    'NOME CONTATO 3', 'CARGO CONTATO 3 ', 'EMAIL CONTATO 3', 'TELEFONE CONTATO 3' ]]\n"
   ]
  },
  {
   "cell_type": "code",
   "execution_count": null,
   "id": "cc50f851",
   "metadata": {},
   "outputs": [],
   "source": [
    "# Renomeando colunas \n",
    "df = df.rename(columns={\n",
    "    'INSTITUIÇÃO': 'EMPRESA',\n",
    "    'NOME CONTATO 1': 'CONTATO I',\n",
    "    'CARGO CONTATO 1 ': 'ÁREA I',\n",
    "    'E-MAIL CONTATO 1': 'EMAIL I',\n",
    "    'TELEFONE CONTATO 1': 'TELEFONE CONTATO I',\n",
    "    'NOME CONTATO 2': 'CONTATO II',\n",
    "    'CARGO CONTATO 2': 'ÁREA II',\n",
    "    'EMAIL CONTATO 2': 'EMAIL II',\n",
    "    'TELEFONE CONTATO 2': 'TELEFONE CONTATO II',\n",
    "    'NOME CONTATO 3': 'CONTATO III',\n",
    "    'CARGO CONTATO 3 ': 'ÁREA III',\n",
    "    'EMAIL CONTATO 3': 'EMAIL III',\n",
    "    'TELEFONE CONTATO 3': 'TELEFONE CONTATO III'\n",
    "})"
   ]
  },
  {
   "cell_type": "code",
   "execution_count": null,
   "id": "4a35e0d6",
   "metadata": {},
   "outputs": [],
   "source": [
    "# Renomeando coluna de telefone para telefona da instituição\n",
    "df = df.rename(columns={'TELEFONE': 'TELEFONE DA INSTITUIÇÃO'})"
   ]
  },
  {
   "cell_type": "code",
   "execution_count": null,
   "id": "4212cb52",
   "metadata": {},
   "outputs": [],
   "source": [
    "# Definindo tipos de empresas\n",
    "df['TIPO DE EMPRESA'] = 'Instituição de ensino'"
   ]
  },
  {
   "cell_type": "code",
   "execution_count": null,
   "id": "199d04c5",
   "metadata": {},
   "outputs": [],
   "source": [
    "# Convertendo campos float para int64\n",
    "df['CÓDIGO DA INSTITUIÇÃO'] = df['CÓDIGO DA INSTITUIÇÃO'].astype('Int64')\n",
    "df['CEP'] = df['CEP'].astype('Int64')\n",
    "df['TOTAL DE MATRÍCULAS'] = df['TOTAL DE MATRÍCULAS'].astype('Int64')\n",
    "\n"
   ]
  },
  {
   "cell_type": "markdown",
   "id": "3f232a42",
   "metadata": {},
   "source": [
    "# Melhorando o Range de Matrículas"
   ]
  },
  {
   "cell_type": "code",
   "execution_count": null,
   "id": "0f208efe",
   "metadata": {},
   "outputs": [],
   "source": [
    "# definindo limites e criando as nomenclaturas \n",
    "bins = [0, 500, 1000, 1500, 2000, 2500, 3000, 3500, float('inf')]\n",
    "labels = ['0 a 500', '501 a 1000', '1001 a 1500', '1501 a 2000', '2001 a 2500', '2501 a 3000', '3001 a 3500', '3501 a infinito']"
   ]
  },
  {
   "cell_type": "code",
   "execution_count": null,
   "id": "a61e904e",
   "metadata": {},
   "outputs": [],
   "source": [
    "df['RANGE DE MATRÍCULAS'] = pd.cut(df['TOTAL DE MATRÍCULAS'], bins=bins, labels=labels, right=True, include_lowest=True)"
   ]
  },
  {
   "cell_type": "markdown",
   "id": "a1306aa3",
   "metadata": {},
   "source": [
    "# Dividindo o arquivo em lotes menores\n",
    "Necessário para realizar a carga no Mautic"
   ]
  },
  {
   "cell_type": "code",
   "execution_count": null,
   "id": "af12992c",
   "metadata": {},
   "outputs": [],
   "source": [
    "# Definindo tamanho dos lotes\n",
    "\n",
    "lote = 9000"
   ]
  },
  {
   "cell_type": "code",
   "execution_count": null,
   "id": "f120ee5e",
   "metadata": {},
   "outputs": [],
   "source": [
    "# Dividindo e salvando os arquivos\n",
    "\n",
    "for i in range(0, len(df), lote):\n",
    "    df_carga = df.iloc[i:i + lote]\n",
    "    df_carga.to_csv(f\"carga_dados_v{i//lote + 1}.csv\", index=False)\n"
   ]
  },
  {
   "cell_type": "code",
   "execution_count": 31,
   "id": "5530f91d",
   "metadata": {},
   "outputs": [
    {
     "data": {
      "text/plain": [
       "TOTAL DE MATRÍCULAS\n",
       "0.0        16826\n",
       "102.0        167\n",
       "90.0         156\n",
       "120.0        150\n",
       "72.0         149\n",
       "           ...  \n",
       "20646.0        1\n",
       "13244.0        1\n",
       "10694.0        1\n",
       "3620.0         1\n",
       "15239.0        1\n",
       "Name: count, Length: 3142, dtype: int64"
      ]
     },
     "execution_count": 31,
     "metadata": {},
     "output_type": "execute_result"
    }
   ],
   "source": [
    "df['TOTAL DE MATRÍCULAS'].value_counts()"
   ]
  },
  {
   "cell_type": "code",
   "execution_count": 34,
   "id": "ea6f191b",
   "metadata": {},
   "outputs": [
    {
     "data": {
      "text/plain": [
       "Index(['ORIGEM', 'CÓDIGO DA INSTITUIÇÃO', 'EMPRESA', 'SIGLA',\n",
       "       'TIPO DE EMPRESA', 'DEPENDÊNCIA ADMINISTRATIVA', 'CATEGORIA',\n",
       "       'GRUPO CONSOLIDADOR', 'NÍVEL DE ENSINO', 'RANGE DE MATRÍCULAS',\n",
       "       'TOTAL DE MATRÍCULAS', 'TICKET MÉDIO', 'ENDEREÇO', 'NÚMERO',\n",
       "       'COMPLEMENTO', 'BAIRRO', 'CEP', 'MUNICÍPIO', 'ESTADO', 'REGIÃO',\n",
       "       'TELEFONE DA INSTITUIÇÃO', 'CONTATO I', 'ÁREA I', 'EMAIL I',\n",
       "       'TELEFONE CONTATO I', 'CONTATO II', 'ÁREA II', 'EMAIL II',\n",
       "       'TELEFONE CONTATO II', 'CONTATO III', 'ÁREA III', 'EMAIL III',\n",
       "       'TELEFONE CONTATO III'],\n",
       "      dtype='object')"
      ]
     },
     "execution_count": 34,
     "metadata": {},
     "output_type": "execute_result"
    }
   ],
   "source": [
    "df.columns"
   ]
  }
 ],
 "metadata": {
  "kernelspec": {
   "display_name": "venv",
   "language": "python",
   "name": "python3"
  },
  "language_info": {
   "codemirror_mode": {
    "name": "ipython",
    "version": 3
   },
   "file_extension": ".py",
   "mimetype": "text/x-python",
   "name": "python",
   "nbconvert_exporter": "python",
   "pygments_lexer": "ipython3",
   "version": "3.12.10"
  }
 },
 "nbformat": 4,
 "nbformat_minor": 5
}
